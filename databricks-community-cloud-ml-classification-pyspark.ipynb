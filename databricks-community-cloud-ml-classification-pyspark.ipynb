{
 "cells": [
  {
   "cell_type": "markdown",
   "metadata": {
    "application/vnd.databricks.v1+cell": {
     "cellMetadata": {},
     "inputWidgets": {},
     "nuid": "96816ed7-b08a-4ca3-abb9-f99880c3535d",
     "showTitle": false,
     "title": ""
    }
   },
   "source": [
    "## Overview\n",
    "\n",
    "This notebook will show you how to create and query a table or DataFrame that you uploaded to DBFS. [DBFS](https://docs.databricks.com/user-guide/dbfs-databricks-file-system.html) is a Databricks File System that allows you to store data for querying inside of Databricks. This notebook assumes that you have a file already inside of DBFS that you would like to read from.\n",
    "\n",
    "This notebook is written in **Python** so the default cell type is Python. However, you can use different languages by using the `%LANGUAGE` syntax. Python, Scala, SQL, and R are all supported."
   ]
  },
  {
   "cell_type": "code",
   "execution_count": 0,
   "metadata": {
    "application/vnd.databricks.v1+cell": {
     "cellMetadata": {
      "byteLimit": 2048000,
      "rowLimit": 10000
     },
     "inputWidgets": {},
     "nuid": "6482be4c-f067-47c9-b0ac-35c938b94601",
     "showTitle": false,
     "title": ""
    }
   },
   "outputs": [
    {
     "output_type": "stream",
     "name": "stdout",
     "output_type": "stream",
     "text": [
      "+-------------+----------------+-----------+--------------+-------------------+-------------------+--------------------+-------+----+---------+-------+-------+\n|fixed acidity|volatile acidity|citric acid|residual sugar|          chlorides|free sulfur dioxide|total sulfur dioxide|density|  pH|sulphates|alcohol|quality|\n+-------------+----------------+-----------+--------------+-------------------+-------------------+--------------------+-------+----+---------+-------+-------+\n|          7.4|             0.7|        0.0|           1.9|              0.076|               11.0|                34.0| 0.9978|3.51|     0.56|    9.4|      5|\n|          7.8|            0.88|        0.0|           2.6|              0.098|               25.0|                67.0| 0.9968| 3.2|     0.68|    9.8|      5|\n|          7.8|            0.76|       0.04|           2.3|              0.092|               15.0|                54.0|  0.997|3.26|     0.65|    9.8|      5|\n|         11.2|            0.28|       0.56|           1.9|              0.075|               17.0|                60.0|  0.998|3.16|     0.58|    9.8|      6|\n|          7.4|             0.7|        0.0|           1.9|              0.076|               11.0|                34.0| 0.9978|3.51|     0.56|    9.4|      5|\n|          7.4|            0.66|        0.0|           1.8|              0.075|               13.0|                40.0| 0.9978|3.51|     0.56|    9.4|      5|\n|          7.9|             0.6|       0.06|           1.6|              0.069|               15.0|                59.0| 0.9964| 3.3|     0.46|    9.4|      5|\n|          7.3|            0.65|        0.0|           1.2|              0.065|               15.0|                21.0| 0.9946|3.39|     0.47|   10.0|      7|\n|          7.8|            0.58|       0.02|           2.0|              0.073|                9.0|                18.0| 0.9968|3.36|     0.57|    9.5|      7|\n|          7.5|             0.5|       0.36|           6.1|              0.071|               17.0|               102.0| 0.9978|3.35|      0.8|   10.5|      5|\n|          6.7|            0.58|       0.08|           1.8|0.09699999999999999|               15.0|                65.0| 0.9959|3.28|     0.54|    9.2|      5|\n|          7.5|             0.5|       0.36|           6.1|              0.071|               17.0|               102.0| 0.9978|3.35|      0.8|   10.5|      5|\n|          5.6|           0.615|        0.0|           1.6|0.08900000000000001|               16.0|                59.0| 0.9943|3.58|     0.52|    9.9|      5|\n|          7.8|            0.61|       0.29|           1.6|              0.114|                9.0|                29.0| 0.9974|3.26|     1.56|    9.1|      5|\n|          8.9|            0.62|       0.18|           3.8|0.17600000000000002|               52.0|               145.0| 0.9986|3.16|     0.88|    9.2|      5|\n|          8.9|            0.62|       0.19|           3.9|               0.17|               51.0|               148.0| 0.9986|3.17|     0.93|    9.2|      5|\n|          8.5|            0.28|       0.56|           1.8|              0.092|               35.0|               103.0| 0.9969| 3.3|     0.75|   10.5|      7|\n|          8.1|            0.56|       0.28|           1.7|              0.368|               16.0|                56.0| 0.9968|3.11|     1.28|    9.3|      5|\n|          7.4|            0.59|       0.08|           4.4|              0.086|                6.0|                29.0| 0.9974|3.38|      0.5|    9.0|      4|\n|          7.9|            0.32|       0.51|           1.8|              0.341|               17.0|                56.0| 0.9969|3.04|     1.08|    9.2|      6|\n+-------------+----------------+-----------+--------------+-------------------+-------------------+--------------------+-------+----+---------+-------+-------+\nonly showing top 20 rows\n\n"
     ]
    }
   ],
   "source": [
    "# File location and type\n",
    "file_location = \"/FileStore/tables/winequality_red.csv\"\n",
    "file_type = \"csv\"\n",
    "\n",
    "# CSV options\n",
    "infer_schema = \"false\"\n",
    "first_row_is_header = \"false\"\n",
    "delimiter = \",\"\n",
    "\n",
    "df = spark.read.csv(file_location,header=True,inferSchema=True)\n",
    "df.show()\n"
   ]
  },
  {
   "cell_type": "code",
   "execution_count": 0,
   "metadata": {
    "application/vnd.databricks.v1+cell": {
     "cellMetadata": {
      "byteLimit": 2048000,
      "rowLimit": 10000
     },
     "inputWidgets": {},
     "nuid": "bd82bb99-1479-4d5c-be10-8c36df0f1d44",
     "showTitle": false,
     "title": ""
    }
   },
   "outputs": [
    {
     "output_type": "stream",
     "name": "stdout",
     "output_type": "stream",
     "text": [
      "root\n |-- fixed acidity: double (nullable = true)\n |-- volatile acidity: double (nullable = true)\n |-- citric acid: double (nullable = true)\n |-- residual sugar: double (nullable = true)\n |-- chlorides: double (nullable = true)\n |-- free sulfur dioxide: double (nullable = true)\n |-- total sulfur dioxide: double (nullable = true)\n |-- density: double (nullable = true)\n |-- pH: double (nullable = true)\n |-- sulphates: double (nullable = true)\n |-- alcohol: double (nullable = true)\n |-- quality: integer (nullable = true)\n\n"
     ]
    }
   ],
   "source": [
    "df.printSchema()"
   ]
  },
  {
   "cell_type": "code",
   "execution_count": 0,
   "metadata": {
    "application/vnd.databricks.v1+cell": {
     "cellMetadata": {
      "byteLimit": 2048000,
      "rowLimit": 10000
     },
     "inputWidgets": {},
     "nuid": "b5f66379-6f7f-42ec-8e82-d0e0926a1721",
     "showTitle": false,
     "title": ""
    }
   },
   "outputs": [
    {
     "output_type": "stream",
     "name": "stdout",
     "output_type": "stream",
     "text": [
      "Out[3]: ['fixed acidity',\n 'volatile acidity',\n 'citric acid',\n 'residual sugar',\n 'chlorides',\n 'free sulfur dioxide',\n 'total sulfur dioxide',\n 'density',\n 'pH',\n 'sulphates',\n 'alcohol',\n 'quality']"
     ]
    }
   ],
   "source": [
    "df.columns"
   ]
  },
  {
   "cell_type": "code",
   "execution_count": 0,
   "metadata": {
    "application/vnd.databricks.v1+cell": {
     "cellMetadata": {
      "byteLimit": 2048000,
      "rowLimit": 10000
     },
     "inputWidgets": {},
     "nuid": "db9631f6-bb4a-42ca-8a3c-0d48af932331",
     "showTitle": false,
     "title": ""
    }
   },
   "outputs": [],
   "source": [
    "from pyspark.ml.feature import VectorAssembler\n",
    "featureassembler=VectorAssembler(inputCols=['fixed acidity',\n",
    " 'volatile acidity',\n",
    " 'citric acid',\n",
    " 'residual sugar',\n",
    " 'chlorides',\n",
    " 'free sulfur dioxide',\n",
    " 'total sulfur dioxide',\n",
    " 'density',\n",
    " 'pH',\n",
    " 'sulphates',\n",
    " 'alcohol'],outputCol=\"Independent Features\")"
   ]
  },
  {
   "cell_type": "code",
   "execution_count": 0,
   "metadata": {
    "application/vnd.databricks.v1+cell": {
     "cellMetadata": {
      "byteLimit": 2048000,
      "rowLimit": 10000
     },
     "inputWidgets": {},
     "nuid": "62fb8724-ea00-41dc-bc07-cb6990957c83",
     "showTitle": false,
     "title": ""
    }
   },
   "outputs": [],
   "source": [
    "output=featureassembler.transform(df)"
   ]
  },
  {
   "cell_type": "code",
   "execution_count": 0,
   "metadata": {
    "application/vnd.databricks.v1+cell": {
     "cellMetadata": {
      "byteLimit": 2048000,
      "rowLimit": 10000
     },
     "inputWidgets": {},
     "nuid": "eef71c4e-e434-4780-ae18-ca6e12e4a991",
     "showTitle": false,
     "title": ""
    }
   },
   "outputs": [
    {
     "output_type": "stream",
     "name": "stdout",
     "output_type": "stream",
     "text": [
      "+-------------+----------------+-----------+--------------+-------------------+-------------------+--------------------+-------+----+---------+-------+-------+--------------------+\n|fixed acidity|volatile acidity|citric acid|residual sugar|          chlorides|free sulfur dioxide|total sulfur dioxide|density|  pH|sulphates|alcohol|quality|Independent Features|\n+-------------+----------------+-----------+--------------+-------------------+-------------------+--------------------+-------+----+---------+-------+-------+--------------------+\n|          7.4|             0.7|        0.0|           1.9|              0.076|               11.0|                34.0| 0.9978|3.51|     0.56|    9.4|      5|[7.4,0.7,0.0,1.9,...|\n|          7.8|            0.88|        0.0|           2.6|              0.098|               25.0|                67.0| 0.9968| 3.2|     0.68|    9.8|      5|[7.8,0.88,0.0,2.6...|\n|          7.8|            0.76|       0.04|           2.3|              0.092|               15.0|                54.0|  0.997|3.26|     0.65|    9.8|      5|[7.8,0.76,0.04,2....|\n|         11.2|            0.28|       0.56|           1.9|              0.075|               17.0|                60.0|  0.998|3.16|     0.58|    9.8|      6|[11.2,0.28,0.56,1...|\n|          7.4|             0.7|        0.0|           1.9|              0.076|               11.0|                34.0| 0.9978|3.51|     0.56|    9.4|      5|[7.4,0.7,0.0,1.9,...|\n|          7.4|            0.66|        0.0|           1.8|              0.075|               13.0|                40.0| 0.9978|3.51|     0.56|    9.4|      5|[7.4,0.66,0.0,1.8...|\n|          7.9|             0.6|       0.06|           1.6|              0.069|               15.0|                59.0| 0.9964| 3.3|     0.46|    9.4|      5|[7.9,0.6,0.06,1.6...|\n|          7.3|            0.65|        0.0|           1.2|              0.065|               15.0|                21.0| 0.9946|3.39|     0.47|   10.0|      7|[7.3,0.65,0.0,1.2...|\n|          7.8|            0.58|       0.02|           2.0|              0.073|                9.0|                18.0| 0.9968|3.36|     0.57|    9.5|      7|[7.8,0.58,0.02,2....|\n|          7.5|             0.5|       0.36|           6.1|              0.071|               17.0|               102.0| 0.9978|3.35|      0.8|   10.5|      5|[7.5,0.5,0.36,6.1...|\n|          6.7|            0.58|       0.08|           1.8|0.09699999999999999|               15.0|                65.0| 0.9959|3.28|     0.54|    9.2|      5|[6.7,0.58,0.08,1....|\n|          7.5|             0.5|       0.36|           6.1|              0.071|               17.0|               102.0| 0.9978|3.35|      0.8|   10.5|      5|[7.5,0.5,0.36,6.1...|\n|          5.6|           0.615|        0.0|           1.6|0.08900000000000001|               16.0|                59.0| 0.9943|3.58|     0.52|    9.9|      5|[5.6,0.615,0.0,1....|\n|          7.8|            0.61|       0.29|           1.6|              0.114|                9.0|                29.0| 0.9974|3.26|     1.56|    9.1|      5|[7.8,0.61,0.29,1....|\n|          8.9|            0.62|       0.18|           3.8|0.17600000000000002|               52.0|               145.0| 0.9986|3.16|     0.88|    9.2|      5|[8.9,0.62,0.18,3....|\n|          8.9|            0.62|       0.19|           3.9|               0.17|               51.0|               148.0| 0.9986|3.17|     0.93|    9.2|      5|[8.9,0.62,0.19,3....|\n|          8.5|            0.28|       0.56|           1.8|              0.092|               35.0|               103.0| 0.9969| 3.3|     0.75|   10.5|      7|[8.5,0.28,0.56,1....|\n|          8.1|            0.56|       0.28|           1.7|              0.368|               16.0|                56.0| 0.9968|3.11|     1.28|    9.3|      5|[8.1,0.56,0.28,1....|\n|          7.4|            0.59|       0.08|           4.4|              0.086|                6.0|                29.0| 0.9974|3.38|      0.5|    9.0|      4|[7.4,0.59,0.08,4....|\n|          7.9|            0.32|       0.51|           1.8|              0.341|               17.0|                56.0| 0.9969|3.04|     1.08|    9.2|      6|[7.9,0.32,0.51,1....|\n+-------------+----------------+-----------+--------------+-------------------+-------------------+--------------------+-------+----+---------+-------+-------+--------------------+\nonly showing top 20 rows\n\n"
     ]
    }
   ],
   "source": [
    "output.show()"
   ]
  },
  {
   "cell_type": "code",
   "execution_count": 0,
   "metadata": {
    "application/vnd.databricks.v1+cell": {
     "cellMetadata": {
      "byteLimit": 2048000,
      "rowLimit": 10000
     },
     "inputWidgets": {},
     "nuid": "b189f3d4-6bdc-4b7c-a460-41d730755850",
     "showTitle": false,
     "title": ""
    }
   },
   "outputs": [
    {
     "output_type": "stream",
     "name": "stdout",
     "output_type": "stream",
     "text": [
      "Out[8]: ['fixed acidity',\n 'volatile acidity',\n 'citric acid',\n 'residual sugar',\n 'chlorides',\n 'free sulfur dioxide',\n 'total sulfur dioxide',\n 'density',\n 'pH',\n 'sulphates',\n 'alcohol',\n 'quality',\n 'Independent Features']"
     ]
    }
   ],
   "source": [
    "output.columns"
   ]
  },
  {
   "cell_type": "code",
   "execution_count": 0,
   "metadata": {
    "application/vnd.databricks.v1+cell": {
     "cellMetadata": {
      "byteLimit": 2048000,
      "rowLimit": 10000
     },
     "inputWidgets": {},
     "nuid": "b315dba1-675e-4593-b03d-3c44384b2e22",
     "showTitle": false,
     "title": ""
    }
   },
   "outputs": [],
   "source": [
    "finalized_data=output.select(\"Independent Features\",\"quality\")"
   ]
  },
  {
   "cell_type": "code",
   "execution_count": 0,
   "metadata": {
    "application/vnd.databricks.v1+cell": {
     "cellMetadata": {
      "byteLimit": 2048000,
      "rowLimit": 10000
     },
     "inputWidgets": {},
     "nuid": "c6740921-fbcf-49a0-a5fa-c5b9b1210552",
     "showTitle": false,
     "title": ""
    }
   },
   "outputs": [
    {
     "output_type": "stream",
     "name": "stdout",
     "output_type": "stream",
     "text": [
      "+--------------------+-------+\n|Independent Features|quality|\n+--------------------+-------+\n|[7.4,0.7,0.0,1.9,...|      5|\n|[7.8,0.88,0.0,2.6...|      5|\n|[7.8,0.76,0.04,2....|      5|\n|[11.2,0.28,0.56,1...|      6|\n|[7.4,0.7,0.0,1.9,...|      5|\n|[7.4,0.66,0.0,1.8...|      5|\n|[7.9,0.6,0.06,1.6...|      5|\n|[7.3,0.65,0.0,1.2...|      7|\n|[7.8,0.58,0.02,2....|      7|\n|[7.5,0.5,0.36,6.1...|      5|\n|[6.7,0.58,0.08,1....|      5|\n|[7.5,0.5,0.36,6.1...|      5|\n|[5.6,0.615,0.0,1....|      5|\n|[7.8,0.61,0.29,1....|      5|\n|[8.9,0.62,0.18,3....|      5|\n|[8.9,0.62,0.19,3....|      5|\n|[8.5,0.28,0.56,1....|      7|\n|[8.1,0.56,0.28,1....|      5|\n|[7.4,0.59,0.08,4....|      4|\n|[7.9,0.32,0.51,1....|      6|\n+--------------------+-------+\nonly showing top 20 rows\n\n"
     ]
    }
   ],
   "source": [
    "finalized_data.show()"
   ]
  },
  {
   "cell_type": "code",
   "execution_count": 0,
   "metadata": {
    "application/vnd.databricks.v1+cell": {
     "cellMetadata": {
      "byteLimit": 2048000,
      "rowLimit": 10000
     },
     "inputWidgets": {},
     "nuid": "48d750f6-cb42-4d4f-817d-632f578c22e8",
     "showTitle": false,
     "title": ""
    }
   },
   "outputs": [],
   "source": [
    "from pyspark.ml.classification import DecisionTreeClassifier\n",
    "train_data,test_data=finalized_data.randomSplit([0.7,0.3])\n",
    "classifier=DecisionTreeClassifier(featuresCol='Independent Features', labelCol='quality')\n",
    "classifier=classifier.fit(train_data)"
   ]
  },
  {
   "cell_type": "code",
   "execution_count": 0,
   "metadata": {
    "application/vnd.databricks.v1+cell": {
     "cellMetadata": {
      "byteLimit": 2048000,
      "rowLimit": 10000
     },
     "inputWidgets": {},
     "nuid": "633983b8-4dfc-4cf4-9fd7-5640930be574",
     "showTitle": false,
     "title": ""
    }
   },
   "outputs": [
    {
     "output_type": "stream",
     "name": "stdout",
     "output_type": "stream",
     "text": [
      "Test Error = 0.427984 \n"
     ]
    }
   ],
   "source": [
    "from pyspark.ml.evaluation import MulticlassClassificationEvaluator\n",
    "evaluator = MulticlassClassificationEvaluator(\n",
    "    labelCol=\"quality\", predictionCol=\"prediction\", metricName=\"accuracy\")\n",
    "predictions = classifier.transform(test_data)\n",
    "accuracy = evaluator.evaluate(predictions)\n",
    "print(\"Test Error = %g \" % (1.0 - accuracy))"
   ]
  },
  {
   "cell_type": "code",
   "execution_count": 0,
   "metadata": {
    "application/vnd.databricks.v1+cell": {
     "cellMetadata": {
      "byteLimit": 2048000,
      "rowLimit": 10000
     },
     "inputWidgets": {},
     "nuid": "bbe0fb90-f348-4d5b-9b99-c25f6e4f3c36",
     "showTitle": false,
     "title": ""
    }
   },
   "outputs": [
    {
     "output_type": "stream",
     "name": "stdout",
     "output_type": "stream",
     "text": [
      "0.5720164609053497\n"
     ]
    }
   ],
   "source": [
    "print(accuracy)"
   ]
  },
  {
   "cell_type": "code",
   "execution_count": 0,
   "metadata": {
    "application/vnd.databricks.v1+cell": {
     "cellMetadata": {},
     "inputWidgets": {},
     "nuid": "b8cfca5e-6aa5-4ed4-bbe0-19aa343a566f",
     "showTitle": false,
     "title": ""
    }
   },
   "outputs": [],
   "source": []
  }
 ],
 "metadata": {
  "application/vnd.databricks.v1+notebook": {
   "dashboards": [],
   "language": "python",
   "notebookMetadata": {
    "pythonIndentUnit": 4
   },
   "notebookName": "2023-09-04 - DBFS Example",
   "widgets": {}
  }
 },
 "nbformat": 4,
 "nbformat_minor": 0
}
