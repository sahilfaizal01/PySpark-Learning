{
  "nbformat": 4,
  "nbformat_minor": 0,
  "metadata": {
    "colab": {
      "provenance": []
    },
    "kernelspec": {
      "name": "python3",
      "display_name": "Python 3"
    },
    "language_info": {
      "name": "python"
    }
  },
  "cells": [
    {
      "cell_type": "code",
      "source": [
        "!pip install pyspark"
      ],
      "metadata": {
        "colab": {
          "base_uri": "https://localhost:8080/"
        },
        "id": "ZC_TIVWQiKDj",
        "outputId": "86440dac-de19-4524-80a1-495670d63b45"
      },
      "execution_count": 2,
      "outputs": [
        {
          "output_type": "stream",
          "name": "stdout",
          "text": [
            "Collecting pyspark\n",
            "  Downloading pyspark-3.4.1.tar.gz (310.8 MB)\n",
            "\u001b[2K     \u001b[90m━━━━━━━━━━━━━━━━━━━━━━━━━━━━━━━━━━━━━━━\u001b[0m \u001b[32m310.8/310.8 MB\u001b[0m \u001b[31m4.5 MB/s\u001b[0m eta \u001b[36m0:00:00\u001b[0m\n",
            "\u001b[?25h  Preparing metadata (setup.py) ... \u001b[?25l\u001b[?25hdone\n",
            "Requirement already satisfied: py4j==0.10.9.7 in /usr/local/lib/python3.10/dist-packages (from pyspark) (0.10.9.7)\n",
            "Building wheels for collected packages: pyspark\n",
            "  Building wheel for pyspark (setup.py) ... \u001b[?25l\u001b[?25hdone\n",
            "  Created wheel for pyspark: filename=pyspark-3.4.1-py2.py3-none-any.whl size=311285387 sha256=fbf82c2928c6329128f881e79866f126ce9a1811ba9094c84e4cc437adfa51cb\n",
            "  Stored in directory: /root/.cache/pip/wheels/0d/77/a3/ff2f74cc9ab41f8f594dabf0579c2a7c6de920d584206e0834\n",
            "Successfully built pyspark\n",
            "Installing collected packages: pyspark\n",
            "Successfully installed pyspark-3.4.1\n"
          ]
        }
      ]
    },
    {
      "cell_type": "code",
      "execution_count": 3,
      "metadata": {
        "id": "OlnuZcaVhxxy"
      },
      "outputs": [],
      "source": [
        "import pyspark"
      ]
    },
    {
      "cell_type": "code",
      "source": [
        "from pyspark.sql import SparkSession"
      ],
      "metadata": {
        "id": "xXXY_DtbhyGB"
      },
      "execution_count": 4,
      "outputs": []
    },
    {
      "cell_type": "code",
      "source": [
        "spark = SparkSession.builder.appName('DataFrame').getOrCreate()"
      ],
      "metadata": {
        "id": "BhM7ySAlmRze"
      },
      "execution_count": 5,
      "outputs": []
    },
    {
      "cell_type": "code",
      "source": [
        "spark"
      ],
      "metadata": {
        "colab": {
          "base_uri": "https://localhost:8080/",
          "height": 221
        },
        "id": "Qk74NytbmR1y",
        "outputId": "c6237fe2-5ba1-42f8-fd0d-b47e08074f87"
      },
      "execution_count": 6,
      "outputs": [
        {
          "output_type": "execute_result",
          "data": {
            "text/plain": [
              "<pyspark.sql.session.SparkSession at 0x7d66bea7faf0>"
            ],
            "text/html": [
              "\n",
              "            <div>\n",
              "                <p><b>SparkSession - in-memory</b></p>\n",
              "                \n",
              "        <div>\n",
              "            <p><b>SparkContext</b></p>\n",
              "\n",
              "            <p><a href=\"http://47e663f55b41:4040\">Spark UI</a></p>\n",
              "\n",
              "            <dl>\n",
              "              <dt>Version</dt>\n",
              "                <dd><code>v3.4.1</code></dd>\n",
              "              <dt>Master</dt>\n",
              "                <dd><code>local[*]</code></dd>\n",
              "              <dt>AppName</dt>\n",
              "                <dd><code>DataFrame</code></dd>\n",
              "            </dl>\n",
              "        </div>\n",
              "        \n",
              "            </div>\n",
              "        "
            ]
          },
          "metadata": {},
          "execution_count": 6
        }
      ]
    },
    {
      "cell_type": "markdown",
      "source": [
        "# **Part 1 - Importing, Renaming, Dropping, Selecting**"
      ],
      "metadata": {
        "id": "uF8PpDWxpIRt"
      }
    },
    {
      "cell_type": "code",
      "source": [
        "df_pyspark=spark.read.option('header','true').csv('/content/winequality-red.csv',inferSchema=True)\n",
        "# without inferschema the columns will be seen as strings"
      ],
      "metadata": {
        "id": "UPkqnLaCmR33"
      },
      "execution_count": 7,
      "outputs": []
    },
    {
      "cell_type": "code",
      "source": [
        "df_pyspark.printSchema()"
      ],
      "metadata": {
        "colab": {
          "base_uri": "https://localhost:8080/"
        },
        "id": "Vmh9_2yYhyJq",
        "outputId": "f50aaa60-b083-481f-b601-0f1f311905ef"
      },
      "execution_count": 8,
      "outputs": [
        {
          "output_type": "stream",
          "name": "stdout",
          "text": [
            "root\n",
            " |-- fixed acidity: double (nullable = true)\n",
            " |-- volatile acidity: double (nullable = true)\n",
            " |-- citric acid: double (nullable = true)\n",
            " |-- residual sugar: double (nullable = true)\n",
            " |-- chlorides: double (nullable = true)\n",
            " |-- free sulfur dioxide: double (nullable = true)\n",
            " |-- total sulfur dioxide: double (nullable = true)\n",
            " |-- density: double (nullable = true)\n",
            " |-- pH: double (nullable = true)\n",
            " |-- sulphates: double (nullable = true)\n",
            " |-- alcohol: double (nullable = true)\n",
            " |-- quality: integer (nullable = true)\n",
            "\n"
          ]
        }
      ]
    },
    {
      "cell_type": "code",
      "source": [
        "df_py=spark.read.csv('/content/winequality-red.csv',header=True,inferSchema=True)\n",
        "df_py.show()"
      ],
      "metadata": {
        "colab": {
          "base_uri": "https://localhost:8080/"
        },
        "id": "ff7sWCQUnjN2",
        "outputId": "74367c74-9a7d-465e-f613-7cbb78e11cb4"
      },
      "execution_count": 10,
      "outputs": [
        {
          "output_type": "stream",
          "name": "stdout",
          "text": [
            "+-------------+----------------+-----------+--------------+-------------------+-------------------+--------------------+-------+----+---------+-------+-------+\n",
            "|fixed acidity|volatile acidity|citric acid|residual sugar|          chlorides|free sulfur dioxide|total sulfur dioxide|density|  pH|sulphates|alcohol|quality|\n",
            "+-------------+----------------+-----------+--------------+-------------------+-------------------+--------------------+-------+----+---------+-------+-------+\n",
            "|          7.4|             0.7|        0.0|           1.9|              0.076|               11.0|                34.0| 0.9978|3.51|     0.56|    9.4|      5|\n",
            "|          7.8|            0.88|        0.0|           2.6|              0.098|               25.0|                67.0| 0.9968| 3.2|     0.68|    9.8|      5|\n",
            "|          7.8|            0.76|       0.04|           2.3|              0.092|               15.0|                54.0|  0.997|3.26|     0.65|    9.8|      5|\n",
            "|         11.2|            0.28|       0.56|           1.9|              0.075|               17.0|                60.0|  0.998|3.16|     0.58|    9.8|      6|\n",
            "|          7.4|             0.7|        0.0|           1.9|              0.076|               11.0|                34.0| 0.9978|3.51|     0.56|    9.4|      5|\n",
            "|          7.4|            0.66|        0.0|           1.8|              0.075|               13.0|                40.0| 0.9978|3.51|     0.56|    9.4|      5|\n",
            "|          7.9|             0.6|       0.06|           1.6|              0.069|               15.0|                59.0| 0.9964| 3.3|     0.46|    9.4|      5|\n",
            "|          7.3|            0.65|        0.0|           1.2|              0.065|               15.0|                21.0| 0.9946|3.39|     0.47|   10.0|      7|\n",
            "|          7.8|            0.58|       0.02|           2.0|              0.073|                9.0|                18.0| 0.9968|3.36|     0.57|    9.5|      7|\n",
            "|          7.5|             0.5|       0.36|           6.1|              0.071|               17.0|               102.0| 0.9978|3.35|      0.8|   10.5|      5|\n",
            "|          6.7|            0.58|       0.08|           1.8|0.09699999999999999|               15.0|                65.0| 0.9959|3.28|     0.54|    9.2|      5|\n",
            "|          7.5|             0.5|       0.36|           6.1|              0.071|               17.0|               102.0| 0.9978|3.35|      0.8|   10.5|      5|\n",
            "|          5.6|           0.615|        0.0|           1.6|0.08900000000000001|               16.0|                59.0| 0.9943|3.58|     0.52|    9.9|      5|\n",
            "|          7.8|            0.61|       0.29|           1.6|              0.114|                9.0|                29.0| 0.9974|3.26|     1.56|    9.1|      5|\n",
            "|          8.9|            0.62|       0.18|           3.8|0.17600000000000002|               52.0|               145.0| 0.9986|3.16|     0.88|    9.2|      5|\n",
            "|          8.9|            0.62|       0.19|           3.9|               0.17|               51.0|               148.0| 0.9986|3.17|     0.93|    9.2|      5|\n",
            "|          8.5|            0.28|       0.56|           1.8|              0.092|               35.0|               103.0| 0.9969| 3.3|     0.75|   10.5|      7|\n",
            "|          8.1|            0.56|       0.28|           1.7|              0.368|               16.0|                56.0| 0.9968|3.11|     1.28|    9.3|      5|\n",
            "|          7.4|            0.59|       0.08|           4.4|              0.086|                6.0|                29.0| 0.9974|3.38|      0.5|    9.0|      4|\n",
            "|          7.9|            0.32|       0.51|           1.8|              0.341|               17.0|                56.0| 0.9969|3.04|     1.08|    9.2|      6|\n",
            "+-------------+----------------+-----------+--------------+-------------------+-------------------+--------------------+-------+----+---------+-------+-------+\n",
            "only showing top 20 rows\n",
            "\n"
          ]
        }
      ]
    },
    {
      "cell_type": "code",
      "source": [
        "df_py.printSchema()"
      ],
      "metadata": {
        "colab": {
          "base_uri": "https://localhost:8080/"
        },
        "id": "tFTK0Tjqnjbe",
        "outputId": "81d28f70-583a-4120-e31f-90745944bfdd"
      },
      "execution_count": 11,
      "outputs": [
        {
          "output_type": "stream",
          "name": "stdout",
          "text": [
            "root\n",
            " |-- fixed acidity: double (nullable = true)\n",
            " |-- volatile acidity: double (nullable = true)\n",
            " |-- citric acid: double (nullable = true)\n",
            " |-- residual sugar: double (nullable = true)\n",
            " |-- chlorides: double (nullable = true)\n",
            " |-- free sulfur dioxide: double (nullable = true)\n",
            " |-- total sulfur dioxide: double (nullable = true)\n",
            " |-- density: double (nullable = true)\n",
            " |-- pH: double (nullable = true)\n",
            " |-- sulphates: double (nullable = true)\n",
            " |-- alcohol: double (nullable = true)\n",
            " |-- quality: integer (nullable = true)\n",
            "\n"
          ]
        }
      ]
    },
    {
      "cell_type": "code",
      "source": [
        "type(df_py)"
      ],
      "metadata": {
        "colab": {
          "base_uri": "https://localhost:8080/"
        },
        "id": "0tevA56hnjj9",
        "outputId": "0a66e058-fa5e-44ee-ff7e-17960fcf01ca"
      },
      "execution_count": 12,
      "outputs": [
        {
          "output_type": "execute_result",
          "data": {
            "text/plain": [
              "pyspark.sql.dataframe.DataFrame"
            ]
          },
          "metadata": {},
          "execution_count": 12
        }
      ]
    },
    {
      "cell_type": "code",
      "source": [
        "df_py.head(3)"
      ],
      "metadata": {
        "colab": {
          "base_uri": "https://localhost:8080/"
        },
        "id": "8E9bR4qvoESQ",
        "outputId": "b2559f64-f455-4d49-9ff4-ae0fa87864c4"
      },
      "execution_count": 13,
      "outputs": [
        {
          "output_type": "execute_result",
          "data": {
            "text/plain": [
              "[Row(fixed acidity=7.4, volatile acidity=0.7, citric acid=0.0, residual sugar=1.9, chlorides=0.076, free sulfur dioxide=11.0, total sulfur dioxide=34.0, density=0.9978, pH=3.51, sulphates=0.56, alcohol=9.4, quality=5),\n",
              " Row(fixed acidity=7.8, volatile acidity=0.88, citric acid=0.0, residual sugar=2.6, chlorides=0.098, free sulfur dioxide=25.0, total sulfur dioxide=67.0, density=0.9968, pH=3.2, sulphates=0.68, alcohol=9.8, quality=5),\n",
              " Row(fixed acidity=7.8, volatile acidity=0.76, citric acid=0.04, residual sugar=2.3, chlorides=0.092, free sulfur dioxide=15.0, total sulfur dioxide=54.0, density=0.997, pH=3.26, sulphates=0.65, alcohol=9.8, quality=5)]"
            ]
          },
          "metadata": {},
          "execution_count": 13
        }
      ]
    },
    {
      "cell_type": "code",
      "source": [
        "df_py.columns"
      ],
      "metadata": {
        "colab": {
          "base_uri": "https://localhost:8080/"
        },
        "id": "jdntXpbUhyPC",
        "outputId": "eca44f3d-2a93-4619-8739-3f97f5cc1c43"
      },
      "execution_count": 14,
      "outputs": [
        {
          "output_type": "execute_result",
          "data": {
            "text/plain": [
              "['fixed acidity',\n",
              " 'volatile acidity',\n",
              " 'citric acid',\n",
              " 'residual sugar',\n",
              " 'chlorides',\n",
              " 'free sulfur dioxide',\n",
              " 'total sulfur dioxide',\n",
              " 'density',\n",
              " 'pH',\n",
              " 'sulphates',\n",
              " 'alcohol',\n",
              " 'quality']"
            ]
          },
          "metadata": {},
          "execution_count": 14
        }
      ]
    },
    {
      "cell_type": "code",
      "source": [
        "df_py.select('fixed acidity') # return type dataframe"
      ],
      "metadata": {
        "colab": {
          "base_uri": "https://localhost:8080/"
        },
        "id": "y3nUuXfjhyVO",
        "outputId": "4d869355-2a79-40ae-8ad9-c5e6f4681f9f"
      },
      "execution_count": 15,
      "outputs": [
        {
          "output_type": "execute_result",
          "data": {
            "text/plain": [
              "DataFrame[fixed acidity: double]"
            ]
          },
          "metadata": {},
          "execution_count": 15
        }
      ]
    },
    {
      "cell_type": "code",
      "source": [
        "df_py.select('fixed acidity').show()"
      ],
      "metadata": {
        "colab": {
          "base_uri": "https://localhost:8080/"
        },
        "id": "7OMJvS8khyc0",
        "outputId": "aa924c93-8461-4164-bc2b-5e868873fba5"
      },
      "execution_count": 16,
      "outputs": [
        {
          "output_type": "stream",
          "name": "stdout",
          "text": [
            "+-------------+\n",
            "|fixed acidity|\n",
            "+-------------+\n",
            "|          7.4|\n",
            "|          7.8|\n",
            "|          7.8|\n",
            "|         11.2|\n",
            "|          7.4|\n",
            "|          7.4|\n",
            "|          7.9|\n",
            "|          7.3|\n",
            "|          7.8|\n",
            "|          7.5|\n",
            "|          6.7|\n",
            "|          7.5|\n",
            "|          5.6|\n",
            "|          7.8|\n",
            "|          8.9|\n",
            "|          8.9|\n",
            "|          8.5|\n",
            "|          8.1|\n",
            "|          7.4|\n",
            "|          7.9|\n",
            "+-------------+\n",
            "only showing top 20 rows\n",
            "\n"
          ]
        }
      ]
    },
    {
      "cell_type": "code",
      "source": [
        "df_py.select(['alcohol','density']).show()"
      ],
      "metadata": {
        "colab": {
          "base_uri": "https://localhost:8080/"
        },
        "id": "AV4J5F4bhygK",
        "outputId": "ef00078e-2e0a-43f5-b515-7e3a223b4586"
      },
      "execution_count": 17,
      "outputs": [
        {
          "output_type": "stream",
          "name": "stdout",
          "text": [
            "+-------+-------+\n",
            "|alcohol|density|\n",
            "+-------+-------+\n",
            "|    9.4| 0.9978|\n",
            "|    9.8| 0.9968|\n",
            "|    9.8|  0.997|\n",
            "|    9.8|  0.998|\n",
            "|    9.4| 0.9978|\n",
            "|    9.4| 0.9978|\n",
            "|    9.4| 0.9964|\n",
            "|   10.0| 0.9946|\n",
            "|    9.5| 0.9968|\n",
            "|   10.5| 0.9978|\n",
            "|    9.2| 0.9959|\n",
            "|   10.5| 0.9978|\n",
            "|    9.9| 0.9943|\n",
            "|    9.1| 0.9974|\n",
            "|    9.2| 0.9986|\n",
            "|    9.2| 0.9986|\n",
            "|   10.5| 0.9969|\n",
            "|    9.3| 0.9968|\n",
            "|    9.0| 0.9974|\n",
            "|    9.2| 0.9969|\n",
            "+-------+-------+\n",
            "only showing top 20 rows\n",
            "\n"
          ]
        }
      ]
    },
    {
      "cell_type": "code",
      "source": [
        "df_py['density'] # returns column name"
      ],
      "metadata": {
        "colab": {
          "base_uri": "https://localhost:8080/"
        },
        "id": "ELvuLYLshyig",
        "outputId": "071c3bb7-89c3-4ca1-c476-35c3234eb9ca"
      },
      "execution_count": 18,
      "outputs": [
        {
          "output_type": "execute_result",
          "data": {
            "text/plain": [
              "Column<'density'>"
            ]
          },
          "metadata": {},
          "execution_count": 18
        }
      ]
    },
    {
      "cell_type": "code",
      "source": [
        "df_py.dtypes"
      ],
      "metadata": {
        "colab": {
          "base_uri": "https://localhost:8080/"
        },
        "id": "TIs1OAeehyk2",
        "outputId": "6e315a6a-7c2f-487f-b9a6-760ecaa1ff37"
      },
      "execution_count": 19,
      "outputs": [
        {
          "output_type": "execute_result",
          "data": {
            "text/plain": [
              "[('fixed acidity', 'double'),\n",
              " ('volatile acidity', 'double'),\n",
              " ('citric acid', 'double'),\n",
              " ('residual sugar', 'double'),\n",
              " ('chlorides', 'double'),\n",
              " ('free sulfur dioxide', 'double'),\n",
              " ('total sulfur dioxide', 'double'),\n",
              " ('density', 'double'),\n",
              " ('pH', 'double'),\n",
              " ('sulphates', 'double'),\n",
              " ('alcohol', 'double'),\n",
              " ('quality', 'int')]"
            ]
          },
          "metadata": {},
          "execution_count": 19
        }
      ]
    },
    {
      "cell_type": "code",
      "source": [
        "df_py.describe()"
      ],
      "metadata": {
        "colab": {
          "base_uri": "https://localhost:8080/"
        },
        "id": "4JlDhhPZhynM",
        "outputId": "3fa8610a-4ba6-45c1-d85f-d51854a45d25"
      },
      "execution_count": 20,
      "outputs": [
        {
          "output_type": "execute_result",
          "data": {
            "text/plain": [
              "DataFrame[summary: string, fixed acidity: string, volatile acidity: string, citric acid: string, residual sugar: string, chlorides: string, free sulfur dioxide: string, total sulfur dioxide: string, density: string, pH: string, sulphates: string, alcohol: string, quality: string]"
            ]
          },
          "metadata": {},
          "execution_count": 20
        }
      ]
    },
    {
      "cell_type": "code",
      "source": [
        "df_py.describe().show()"
      ],
      "metadata": {
        "colab": {
          "base_uri": "https://localhost:8080/"
        },
        "id": "i5G8KKRehysr",
        "outputId": "030cf538-5203-4d8d-a7ea-3ce16e311f4c"
      },
      "execution_count": 21,
      "outputs": [
        {
          "output_type": "stream",
          "name": "stdout",
          "text": [
            "+-------+------------------+-------------------+-------------------+------------------+--------------------+-------------------+--------------------+--------------------+-------------------+------------------+------------------+------------------+\n",
            "|summary|     fixed acidity|   volatile acidity|        citric acid|    residual sugar|           chlorides|free sulfur dioxide|total sulfur dioxide|             density|                 pH|         sulphates|           alcohol|           quality|\n",
            "+-------+------------------+-------------------+-------------------+------------------+--------------------+-------------------+--------------------+--------------------+-------------------+------------------+------------------+------------------+\n",
            "|  count|              1599|               1599|               1599|              1599|                1599|               1599|                1599|                1599|               1599|              1599|              1599|              1599|\n",
            "|   mean| 8.319637273295838| 0.5278205128205131| 0.2709756097560964|2.5388055034396517| 0.08746654158849257| 15.874921826141339|   46.46779237023139|  0.9967466791744833|  3.311113195747343|0.6581488430268921|10.422983114446502|5.6360225140712945|\n",
            "| stddev|1.7410963181276948|0.17905970415353525|0.19480113740531824|  1.40992805950728|0.047065302010090085|  10.46015696980971|   32.89532447829907|0.001887333953842...|0.15438646490354271|0.1695069795901101|1.0656675818473935|0.8075694397347051|\n",
            "|    min|               4.6|               0.12|                0.0|               0.9|               0.012|                1.0|                 6.0|  0.9900700000000001|               2.74|              0.33|               8.4|                 3|\n",
            "|    max|              15.9|               1.58|                1.0|              15.5|               0.611|               72.0|               289.0|             1.00369|               4.01|               2.0|              14.9|                 8|\n",
            "+-------+------------------+-------------------+-------------------+------------------+--------------------+-------------------+--------------------+--------------------+-------------------+------------------+------------------+------------------+\n",
            "\n"
          ]
        }
      ]
    },
    {
      "cell_type": "code",
      "source": [
        "### Adding Columns in data frame\n",
        "df_py=df_py.withColumn('densityPlus',df_py['density']+1)"
      ],
      "metadata": {
        "id": "rxYuVrB5hyvI"
      },
      "execution_count": 22,
      "outputs": []
    },
    {
      "cell_type": "code",
      "source": [
        "df_py.show()"
      ],
      "metadata": {
        "colab": {
          "base_uri": "https://localhost:8080/"
        },
        "id": "jeh1COcThyxe",
        "outputId": "374784cc-9f99-4e4f-e118-4d06032a669d"
      },
      "execution_count": 23,
      "outputs": [
        {
          "output_type": "stream",
          "name": "stdout",
          "text": [
            "+-------------+----------------+-----------+--------------+-------------------+-------------------+--------------------+-------+----+---------+-------+-------+------------------+\n",
            "|fixed acidity|volatile acidity|citric acid|residual sugar|          chlorides|free sulfur dioxide|total sulfur dioxide|density|  pH|sulphates|alcohol|quality|       densityPlus|\n",
            "+-------------+----------------+-----------+--------------+-------------------+-------------------+--------------------+-------+----+---------+-------+-------+------------------+\n",
            "|          7.4|             0.7|        0.0|           1.9|              0.076|               11.0|                34.0| 0.9978|3.51|     0.56|    9.4|      5|            1.9978|\n",
            "|          7.8|            0.88|        0.0|           2.6|              0.098|               25.0|                67.0| 0.9968| 3.2|     0.68|    9.8|      5|            1.9968|\n",
            "|          7.8|            0.76|       0.04|           2.3|              0.092|               15.0|                54.0|  0.997|3.26|     0.65|    9.8|      5|1.9969999999999999|\n",
            "|         11.2|            0.28|       0.56|           1.9|              0.075|               17.0|                60.0|  0.998|3.16|     0.58|    9.8|      6|             1.998|\n",
            "|          7.4|             0.7|        0.0|           1.9|              0.076|               11.0|                34.0| 0.9978|3.51|     0.56|    9.4|      5|            1.9978|\n",
            "|          7.4|            0.66|        0.0|           1.8|              0.075|               13.0|                40.0| 0.9978|3.51|     0.56|    9.4|      5|            1.9978|\n",
            "|          7.9|             0.6|       0.06|           1.6|              0.069|               15.0|                59.0| 0.9964| 3.3|     0.46|    9.4|      5|            1.9964|\n",
            "|          7.3|            0.65|        0.0|           1.2|              0.065|               15.0|                21.0| 0.9946|3.39|     0.47|   10.0|      7|1.9946000000000002|\n",
            "|          7.8|            0.58|       0.02|           2.0|              0.073|                9.0|                18.0| 0.9968|3.36|     0.57|    9.5|      7|            1.9968|\n",
            "|          7.5|             0.5|       0.36|           6.1|              0.071|               17.0|               102.0| 0.9978|3.35|      0.8|   10.5|      5|            1.9978|\n",
            "|          6.7|            0.58|       0.08|           1.8|0.09699999999999999|               15.0|                65.0| 0.9959|3.28|     0.54|    9.2|      5|            1.9959|\n",
            "|          7.5|             0.5|       0.36|           6.1|              0.071|               17.0|               102.0| 0.9978|3.35|      0.8|   10.5|      5|            1.9978|\n",
            "|          5.6|           0.615|        0.0|           1.6|0.08900000000000001|               16.0|                59.0| 0.9943|3.58|     0.52|    9.9|      5|            1.9943|\n",
            "|          7.8|            0.61|       0.29|           1.6|              0.114|                9.0|                29.0| 0.9974|3.26|     1.56|    9.1|      5|1.9973999999999998|\n",
            "|          8.9|            0.62|       0.18|           3.8|0.17600000000000002|               52.0|               145.0| 0.9986|3.16|     0.88|    9.2|      5|1.9986000000000002|\n",
            "|          8.9|            0.62|       0.19|           3.9|               0.17|               51.0|               148.0| 0.9986|3.17|     0.93|    9.2|      5|1.9986000000000002|\n",
            "|          8.5|            0.28|       0.56|           1.8|              0.092|               35.0|               103.0| 0.9969| 3.3|     0.75|   10.5|      7|1.9969000000000001|\n",
            "|          8.1|            0.56|       0.28|           1.7|              0.368|               16.0|                56.0| 0.9968|3.11|     1.28|    9.3|      5|            1.9968|\n",
            "|          7.4|            0.59|       0.08|           4.4|              0.086|                6.0|                29.0| 0.9974|3.38|      0.5|    9.0|      4|1.9973999999999998|\n",
            "|          7.9|            0.32|       0.51|           1.8|              0.341|               17.0|                56.0| 0.9969|3.04|     1.08|    9.2|      6|1.9969000000000001|\n",
            "+-------------+----------------+-----------+--------------+-------------------+-------------------+--------------------+-------+----+---------+-------+-------+------------------+\n",
            "only showing top 20 rows\n",
            "\n"
          ]
        }
      ]
    },
    {
      "cell_type": "code",
      "source": [
        "### Drop the columns\n",
        "df_py=df_py.drop('densityPlus')"
      ],
      "metadata": {
        "id": "OdRqWUe5hyzx"
      },
      "execution_count": 24,
      "outputs": []
    },
    {
      "cell_type": "code",
      "source": [
        "df_py.show()"
      ],
      "metadata": {
        "colab": {
          "base_uri": "https://localhost:8080/"
        },
        "id": "CdZXKgkehy1y",
        "outputId": "50e39ddd-77e6-4469-bb03-2fc452f9fbf9"
      },
      "execution_count": 25,
      "outputs": [
        {
          "output_type": "stream",
          "name": "stdout",
          "text": [
            "+-------------+----------------+-----------+--------------+-------------------+-------------------+--------------------+-------+----+---------+-------+-------+\n",
            "|fixed acidity|volatile acidity|citric acid|residual sugar|          chlorides|free sulfur dioxide|total sulfur dioxide|density|  pH|sulphates|alcohol|quality|\n",
            "+-------------+----------------+-----------+--------------+-------------------+-------------------+--------------------+-------+----+---------+-------+-------+\n",
            "|          7.4|             0.7|        0.0|           1.9|              0.076|               11.0|                34.0| 0.9978|3.51|     0.56|    9.4|      5|\n",
            "|          7.8|            0.88|        0.0|           2.6|              0.098|               25.0|                67.0| 0.9968| 3.2|     0.68|    9.8|      5|\n",
            "|          7.8|            0.76|       0.04|           2.3|              0.092|               15.0|                54.0|  0.997|3.26|     0.65|    9.8|      5|\n",
            "|         11.2|            0.28|       0.56|           1.9|              0.075|               17.0|                60.0|  0.998|3.16|     0.58|    9.8|      6|\n",
            "|          7.4|             0.7|        0.0|           1.9|              0.076|               11.0|                34.0| 0.9978|3.51|     0.56|    9.4|      5|\n",
            "|          7.4|            0.66|        0.0|           1.8|              0.075|               13.0|                40.0| 0.9978|3.51|     0.56|    9.4|      5|\n",
            "|          7.9|             0.6|       0.06|           1.6|              0.069|               15.0|                59.0| 0.9964| 3.3|     0.46|    9.4|      5|\n",
            "|          7.3|            0.65|        0.0|           1.2|              0.065|               15.0|                21.0| 0.9946|3.39|     0.47|   10.0|      7|\n",
            "|          7.8|            0.58|       0.02|           2.0|              0.073|                9.0|                18.0| 0.9968|3.36|     0.57|    9.5|      7|\n",
            "|          7.5|             0.5|       0.36|           6.1|              0.071|               17.0|               102.0| 0.9978|3.35|      0.8|   10.5|      5|\n",
            "|          6.7|            0.58|       0.08|           1.8|0.09699999999999999|               15.0|                65.0| 0.9959|3.28|     0.54|    9.2|      5|\n",
            "|          7.5|             0.5|       0.36|           6.1|              0.071|               17.0|               102.0| 0.9978|3.35|      0.8|   10.5|      5|\n",
            "|          5.6|           0.615|        0.0|           1.6|0.08900000000000001|               16.0|                59.0| 0.9943|3.58|     0.52|    9.9|      5|\n",
            "|          7.8|            0.61|       0.29|           1.6|              0.114|                9.0|                29.0| 0.9974|3.26|     1.56|    9.1|      5|\n",
            "|          8.9|            0.62|       0.18|           3.8|0.17600000000000002|               52.0|               145.0| 0.9986|3.16|     0.88|    9.2|      5|\n",
            "|          8.9|            0.62|       0.19|           3.9|               0.17|               51.0|               148.0| 0.9986|3.17|     0.93|    9.2|      5|\n",
            "|          8.5|            0.28|       0.56|           1.8|              0.092|               35.0|               103.0| 0.9969| 3.3|     0.75|   10.5|      7|\n",
            "|          8.1|            0.56|       0.28|           1.7|              0.368|               16.0|                56.0| 0.9968|3.11|     1.28|    9.3|      5|\n",
            "|          7.4|            0.59|       0.08|           4.4|              0.086|                6.0|                29.0| 0.9974|3.38|      0.5|    9.0|      4|\n",
            "|          7.9|            0.32|       0.51|           1.8|              0.341|               17.0|                56.0| 0.9969|3.04|     1.08|    9.2|      6|\n",
            "+-------------+----------------+-----------+--------------+-------------------+-------------------+--------------------+-------+----+---------+-------+-------+\n",
            "only showing top 20 rows\n",
            "\n"
          ]
        }
      ]
    },
    {
      "cell_type": "code",
      "source": [
        "### Rename the columns\n",
        "df_py.withColumnRenamed('residual sugar','sugar').show() # not an inplace operation so assign to a variable"
      ],
      "metadata": {
        "colab": {
          "base_uri": "https://localhost:8080/"
        },
        "id": "DmsYa0A9hy58",
        "outputId": "6ef995b4-fc6a-466b-9e86-5f1b3b693572"
      },
      "execution_count": 26,
      "outputs": [
        {
          "output_type": "stream",
          "name": "stdout",
          "text": [
            "+-------------+----------------+-----------+-----+-------------------+-------------------+--------------------+-------+----+---------+-------+-------+\n",
            "|fixed acidity|volatile acidity|citric acid|sugar|          chlorides|free sulfur dioxide|total sulfur dioxide|density|  pH|sulphates|alcohol|quality|\n",
            "+-------------+----------------+-----------+-----+-------------------+-------------------+--------------------+-------+----+---------+-------+-------+\n",
            "|          7.4|             0.7|        0.0|  1.9|              0.076|               11.0|                34.0| 0.9978|3.51|     0.56|    9.4|      5|\n",
            "|          7.8|            0.88|        0.0|  2.6|              0.098|               25.0|                67.0| 0.9968| 3.2|     0.68|    9.8|      5|\n",
            "|          7.8|            0.76|       0.04|  2.3|              0.092|               15.0|                54.0|  0.997|3.26|     0.65|    9.8|      5|\n",
            "|         11.2|            0.28|       0.56|  1.9|              0.075|               17.0|                60.0|  0.998|3.16|     0.58|    9.8|      6|\n",
            "|          7.4|             0.7|        0.0|  1.9|              0.076|               11.0|                34.0| 0.9978|3.51|     0.56|    9.4|      5|\n",
            "|          7.4|            0.66|        0.0|  1.8|              0.075|               13.0|                40.0| 0.9978|3.51|     0.56|    9.4|      5|\n",
            "|          7.9|             0.6|       0.06|  1.6|              0.069|               15.0|                59.0| 0.9964| 3.3|     0.46|    9.4|      5|\n",
            "|          7.3|            0.65|        0.0|  1.2|              0.065|               15.0|                21.0| 0.9946|3.39|     0.47|   10.0|      7|\n",
            "|          7.8|            0.58|       0.02|  2.0|              0.073|                9.0|                18.0| 0.9968|3.36|     0.57|    9.5|      7|\n",
            "|          7.5|             0.5|       0.36|  6.1|              0.071|               17.0|               102.0| 0.9978|3.35|      0.8|   10.5|      5|\n",
            "|          6.7|            0.58|       0.08|  1.8|0.09699999999999999|               15.0|                65.0| 0.9959|3.28|     0.54|    9.2|      5|\n",
            "|          7.5|             0.5|       0.36|  6.1|              0.071|               17.0|               102.0| 0.9978|3.35|      0.8|   10.5|      5|\n",
            "|          5.6|           0.615|        0.0|  1.6|0.08900000000000001|               16.0|                59.0| 0.9943|3.58|     0.52|    9.9|      5|\n",
            "|          7.8|            0.61|       0.29|  1.6|              0.114|                9.0|                29.0| 0.9974|3.26|     1.56|    9.1|      5|\n",
            "|          8.9|            0.62|       0.18|  3.8|0.17600000000000002|               52.0|               145.0| 0.9986|3.16|     0.88|    9.2|      5|\n",
            "|          8.9|            0.62|       0.19|  3.9|               0.17|               51.0|               148.0| 0.9986|3.17|     0.93|    9.2|      5|\n",
            "|          8.5|            0.28|       0.56|  1.8|              0.092|               35.0|               103.0| 0.9969| 3.3|     0.75|   10.5|      7|\n",
            "|          8.1|            0.56|       0.28|  1.7|              0.368|               16.0|                56.0| 0.9968|3.11|     1.28|    9.3|      5|\n",
            "|          7.4|            0.59|       0.08|  4.4|              0.086|                6.0|                29.0| 0.9974|3.38|      0.5|    9.0|      4|\n",
            "|          7.9|            0.32|       0.51|  1.8|              0.341|               17.0|                56.0| 0.9969|3.04|     1.08|    9.2|      6|\n",
            "+-------------+----------------+-----------+-----+-------------------+-------------------+--------------------+-------+----+---------+-------+-------+\n",
            "only showing top 20 rows\n",
            "\n"
          ]
        }
      ]
    },
    {
      "cell_type": "code",
      "source": [
        "df_py.columns"
      ],
      "metadata": {
        "colab": {
          "base_uri": "https://localhost:8080/"
        },
        "id": "vQeeW9R7hy9l",
        "outputId": "f58e3705-7b35-475d-adf8-0af0ef050889"
      },
      "execution_count": 27,
      "outputs": [
        {
          "output_type": "execute_result",
          "data": {
            "text/plain": [
              "['fixed acidity',\n",
              " 'volatile acidity',\n",
              " 'citric acid',\n",
              " 'residual sugar',\n",
              " 'chlorides',\n",
              " 'free sulfur dioxide',\n",
              " 'total sulfur dioxide',\n",
              " 'density',\n",
              " 'pH',\n",
              " 'sulphates',\n",
              " 'alcohol',\n",
              " 'quality']"
            ]
          },
          "metadata": {},
          "execution_count": 27
        }
      ]
    },
    {
      "cell_type": "markdown",
      "source": [
        "# **Part 2 - Handling Missing Values**"
      ],
      "metadata": {
        "id": "qHKMU2Nmpg_5"
      }
    },
    {
      "cell_type": "code",
      "source": [
        "from pyspark.sql import SparkSession\n",
        "spark=SparkSession.builder.appName('Practise').getOrCreate()"
      ],
      "metadata": {
        "id": "o-db7dwxphIf"
      },
      "execution_count": 28,
      "outputs": []
    },
    {
      "cell_type": "code",
      "source": [
        "df_pyspark=spark.read.csv('test2.csv',header=True,inferSchema=True)\n"
      ],
      "metadata": {
        "id": "pIeQCzjiphK3"
      },
      "execution_count": 29,
      "outputs": []
    },
    {
      "cell_type": "code",
      "source": [
        "df_pyspark.printSchema()\n"
      ],
      "metadata": {
        "colab": {
          "base_uri": "https://localhost:8080/"
        },
        "id": "veONKefxphO5",
        "outputId": "735d26bd-e063-41e4-ad03-31fb8d77c1d1"
      },
      "execution_count": 30,
      "outputs": [
        {
          "output_type": "stream",
          "name": "stdout",
          "text": [
            "root\n",
            " |-- Name: string (nullable = true)\n",
            " |-- age: integer (nullable = true)\n",
            " |-- Experience: integer (nullable = true)\n",
            " |-- Salary: integer (nullable = true)\n",
            "\n"
          ]
        }
      ]
    },
    {
      "cell_type": "code",
      "source": [
        "df_pyspark.show()\n"
      ],
      "metadata": {
        "colab": {
          "base_uri": "https://localhost:8080/"
        },
        "id": "huJpmsygphSO",
        "outputId": "2181fc6d-413d-4a82-e113-2bd7ca06d811"
      },
      "execution_count": 31,
      "outputs": [
        {
          "output_type": "stream",
          "name": "stdout",
          "text": [
            "+---------+----+----------+------+\n",
            "|     Name| age|Experience|Salary|\n",
            "+---------+----+----------+------+\n",
            "|    Krish|  31|        10| 30000|\n",
            "|Sudhanshu|  30|         8| 25000|\n",
            "|    Sunny|  29|         4| 20000|\n",
            "|     Paul|  24|         3| 20000|\n",
            "|   Harsha|  21|         1| 15000|\n",
            "|  Shubham|  23|         2| 18000|\n",
            "|   Mahesh|null|      null| 40000|\n",
            "|     null|  34|        10| 38000|\n",
            "|     null|  36|      null|  null|\n",
            "+---------+----+----------+------+\n",
            "\n"
          ]
        }
      ]
    },
    {
      "cell_type": "code",
      "source": [
        "##drop the columns\n",
        "df_pyspark.drop('Name').show()"
      ],
      "metadata": {
        "colab": {
          "base_uri": "https://localhost:8080/"
        },
        "id": "BfDBO8R2phV0",
        "outputId": "d3f08ec0-f297-498d-eebd-6fd33f80f68a"
      },
      "execution_count": 32,
      "outputs": [
        {
          "output_type": "stream",
          "name": "stdout",
          "text": [
            "+----+----------+------+\n",
            "| age|Experience|Salary|\n",
            "+----+----------+------+\n",
            "|  31|        10| 30000|\n",
            "|  30|         8| 25000|\n",
            "|  29|         4| 20000|\n",
            "|  24|         3| 20000|\n",
            "|  21|         1| 15000|\n",
            "|  23|         2| 18000|\n",
            "|null|      null| 40000|\n",
            "|  34|        10| 38000|\n",
            "|  36|      null|  null|\n",
            "+----+----------+------+\n",
            "\n"
          ]
        }
      ]
    },
    {
      "cell_type": "code",
      "source": [
        "df_pyspark.show()"
      ],
      "metadata": {
        "colab": {
          "base_uri": "https://localhost:8080/"
        },
        "id": "N3ZWHGwPphX6",
        "outputId": "df89f7e7-010c-48f2-a585-6b3fbb73c067"
      },
      "execution_count": 33,
      "outputs": [
        {
          "output_type": "stream",
          "name": "stdout",
          "text": [
            "+---------+----+----------+------+\n",
            "|     Name| age|Experience|Salary|\n",
            "+---------+----+----------+------+\n",
            "|    Krish|  31|        10| 30000|\n",
            "|Sudhanshu|  30|         8| 25000|\n",
            "|    Sunny|  29|         4| 20000|\n",
            "|     Paul|  24|         3| 20000|\n",
            "|   Harsha|  21|         1| 15000|\n",
            "|  Shubham|  23|         2| 18000|\n",
            "|   Mahesh|null|      null| 40000|\n",
            "|     null|  34|        10| 38000|\n",
            "|     null|  36|      null|  null|\n",
            "+---------+----+----------+------+\n",
            "\n"
          ]
        }
      ]
    },
    {
      "cell_type": "markdown",
      "source": [
        "## **Drop null entries**"
      ],
      "metadata": {
        "id": "eLVMvuZI2fOp"
      }
    },
    {
      "cell_type": "code",
      "source": [
        "df_pyspark.na.drop().show() # drops all rows with null values"
      ],
      "metadata": {
        "colab": {
          "base_uri": "https://localhost:8080/"
        },
        "id": "3BIlTVsHphaA",
        "outputId": "667ffadf-ab49-4684-cbff-b59419dd580e"
      },
      "execution_count": 34,
      "outputs": [
        {
          "output_type": "stream",
          "name": "stdout",
          "text": [
            "+---------+---+----------+------+\n",
            "|     Name|age|Experience|Salary|\n",
            "+---------+---+----------+------+\n",
            "|    Krish| 31|        10| 30000|\n",
            "|Sudhanshu| 30|         8| 25000|\n",
            "|    Sunny| 29|         4| 20000|\n",
            "|     Paul| 24|         3| 20000|\n",
            "|   Harsha| 21|         1| 15000|\n",
            "|  Shubham| 23|         2| 18000|\n",
            "+---------+---+----------+------+\n",
            "\n"
          ]
        }
      ]
    },
    {
      "cell_type": "code",
      "source": [
        "### any==how\n",
        "df_pyspark.na.drop(how=\"any\").show() # same as above, deletes a row if any null value is present"
      ],
      "metadata": {
        "colab": {
          "base_uri": "https://localhost:8080/"
        },
        "id": "b2_diJ-3phcA",
        "outputId": "295591a6-9c43-4661-d5b8-9a0b6f1b7ff7"
      },
      "execution_count": 35,
      "outputs": [
        {
          "output_type": "stream",
          "name": "stdout",
          "text": [
            "+---------+---+----------+------+\n",
            "|     Name|age|Experience|Salary|\n",
            "+---------+---+----------+------+\n",
            "|    Krish| 31|        10| 30000|\n",
            "|Sudhanshu| 30|         8| 25000|\n",
            "|    Sunny| 29|         4| 20000|\n",
            "|     Paul| 24|         3| 20000|\n",
            "|   Harsha| 21|         1| 15000|\n",
            "|  Shubham| 23|         2| 18000|\n",
            "+---------+---+----------+------+\n",
            "\n"
          ]
        }
      ]
    },
    {
      "cell_type": "markdown",
      "source": [
        "## **Threshold**"
      ],
      "metadata": {
        "id": "4Tvi-D-42bzs"
      }
    },
    {
      "cell_type": "code",
      "source": [
        "##threshold\n",
        "df_pyspark.na.drop(how=\"any\",thresh=3).show() # won't delete if thresh times non-null values are present"
      ],
      "metadata": {
        "colab": {
          "base_uri": "https://localhost:8080/"
        },
        "id": "UG1vVP6dpheS",
        "outputId": "13f40217-414c-483c-845e-43a7c123102e"
      },
      "execution_count": 36,
      "outputs": [
        {
          "output_type": "stream",
          "name": "stdout",
          "text": [
            "+---------+---+----------+------+\n",
            "|     Name|age|Experience|Salary|\n",
            "+---------+---+----------+------+\n",
            "|    Krish| 31|        10| 30000|\n",
            "|Sudhanshu| 30|         8| 25000|\n",
            "|    Sunny| 29|         4| 20000|\n",
            "|     Paul| 24|         3| 20000|\n",
            "|   Harsha| 21|         1| 15000|\n",
            "|  Shubham| 23|         2| 18000|\n",
            "|     null| 34|        10| 38000|\n",
            "+---------+---+----------+------+\n",
            "\n"
          ]
        }
      ]
    },
    {
      "cell_type": "code",
      "source": [
        "df_pyspark.show()"
      ],
      "metadata": {
        "colab": {
          "base_uri": "https://localhost:8080/"
        },
        "id": "6ibG0wfQ131A",
        "outputId": "05d43837-be10-4424-f3eb-d62fe31b01e3"
      },
      "execution_count": 38,
      "outputs": [
        {
          "output_type": "stream",
          "name": "stdout",
          "text": [
            "+---------+----+----------+------+\n",
            "|     Name| age|Experience|Salary|\n",
            "+---------+----+----------+------+\n",
            "|    Krish|  31|        10| 30000|\n",
            "|Sudhanshu|  30|         8| 25000|\n",
            "|    Sunny|  29|         4| 20000|\n",
            "|     Paul|  24|         3| 20000|\n",
            "|   Harsha|  21|         1| 15000|\n",
            "|  Shubham|  23|         2| 18000|\n",
            "|   Mahesh|null|      null| 40000|\n",
            "|     null|  34|        10| 38000|\n",
            "|     null|  36|      null|  null|\n",
            "+---------+----+----------+------+\n",
            "\n"
          ]
        }
      ]
    },
    {
      "cell_type": "markdown",
      "source": [
        "## **Subset**"
      ],
      "metadata": {
        "id": "YOoACxC12S-s"
      }
    },
    {
      "cell_type": "code",
      "source": [
        "##Subset\n",
        "df_pyspark.na.drop(how=\"any\",subset=['age']).show() # only removes null values in the Age column"
      ],
      "metadata": {
        "colab": {
          "base_uri": "https://localhost:8080/"
        },
        "id": "wRt4a6CDphhQ",
        "outputId": "949cef35-87a3-4664-f778-99a972324906"
      },
      "execution_count": 39,
      "outputs": [
        {
          "output_type": "stream",
          "name": "stdout",
          "text": [
            "+---------+---+----------+------+\n",
            "|     Name|age|Experience|Salary|\n",
            "+---------+---+----------+------+\n",
            "|    Krish| 31|        10| 30000|\n",
            "|Sudhanshu| 30|         8| 25000|\n",
            "|    Sunny| 29|         4| 20000|\n",
            "|     Paul| 24|         3| 20000|\n",
            "|   Harsha| 21|         1| 15000|\n",
            "|  Shubham| 23|         2| 18000|\n",
            "|     null| 34|        10| 38000|\n",
            "|     null| 36|      null|  null|\n",
            "+---------+---+----------+------+\n",
            "\n"
          ]
        }
      ]
    },
    {
      "cell_type": "code",
      "source": [
        "df_pyspark.show()"
      ],
      "metadata": {
        "colab": {
          "base_uri": "https://localhost:8080/"
        },
        "id": "xWvuuFXS2LdW",
        "outputId": "15d67ac0-597f-469d-801e-a7b4218295b8"
      },
      "execution_count": 40,
      "outputs": [
        {
          "output_type": "stream",
          "name": "stdout",
          "text": [
            "+---------+----+----------+------+\n",
            "|     Name| age|Experience|Salary|\n",
            "+---------+----+----------+------+\n",
            "|    Krish|  31|        10| 30000|\n",
            "|Sudhanshu|  30|         8| 25000|\n",
            "|    Sunny|  29|         4| 20000|\n",
            "|     Paul|  24|         3| 20000|\n",
            "|   Harsha|  21|         1| 15000|\n",
            "|  Shubham|  23|         2| 18000|\n",
            "|   Mahesh|null|      null| 40000|\n",
            "|     null|  34|        10| 38000|\n",
            "|     null|  36|      null|  null|\n",
            "+---------+----+----------+------+\n",
            "\n"
          ]
        }
      ]
    },
    {
      "cell_type": "markdown",
      "source": [
        "## **Filling Missing Values**"
      ],
      "metadata": {
        "id": "CNPjv9Hf2W5B"
      }
    },
    {
      "cell_type": "code",
      "source": [
        "### Filling the Missing Value\n",
        "df_pyspark.na.fill(0,['Experience','age']).show() # fi"
      ],
      "metadata": {
        "colab": {
          "base_uri": "https://localhost:8080/"
        },
        "id": "wiFWjAwpphlD",
        "outputId": "f0f734be-71d2-42b2-9ed8-ea5cbed67aaa"
      },
      "execution_count": 41,
      "outputs": [
        {
          "output_type": "stream",
          "name": "stdout",
          "text": [
            "+---------+---+----------+------+\n",
            "|     Name|age|Experience|Salary|\n",
            "+---------+---+----------+------+\n",
            "|    Krish| 31|        10| 30000|\n",
            "|Sudhanshu| 30|         8| 25000|\n",
            "|    Sunny| 29|         4| 20000|\n",
            "|     Paul| 24|         3| 20000|\n",
            "|   Harsha| 21|         1| 15000|\n",
            "|  Shubham| 23|         2| 18000|\n",
            "|   Mahesh|  0|         0| 40000|\n",
            "|     null| 34|        10| 38000|\n",
            "|     null| 36|         0|  null|\n",
            "+---------+---+----------+------+\n",
            "\n"
          ]
        }
      ]
    },
    {
      "cell_type": "code",
      "source": [
        "df_pyspark.show()"
      ],
      "metadata": {
        "colab": {
          "base_uri": "https://localhost:8080/"
        },
        "id": "AqlmWVkqphos",
        "outputId": "fd542134-6a54-400b-e90e-0be52eece452"
      },
      "execution_count": 42,
      "outputs": [
        {
          "output_type": "stream",
          "name": "stdout",
          "text": [
            "+---------+----+----------+------+\n",
            "|     Name| age|Experience|Salary|\n",
            "+---------+----+----------+------+\n",
            "|    Krish|  31|        10| 30000|\n",
            "|Sudhanshu|  30|         8| 25000|\n",
            "|    Sunny|  29|         4| 20000|\n",
            "|     Paul|  24|         3| 20000|\n",
            "|   Harsha|  21|         1| 15000|\n",
            "|  Shubham|  23|         2| 18000|\n",
            "|   Mahesh|null|      null| 40000|\n",
            "|     null|  34|        10| 38000|\n",
            "|     null|  36|      null|  null|\n",
            "+---------+----+----------+------+\n",
            "\n"
          ]
        }
      ]
    },
    {
      "cell_type": "markdown",
      "source": [
        "## **Replacing null values with mean/median etc. calculated using Imputer function**"
      ],
      "metadata": {
        "id": "Xe3P9TFj22LQ"
      }
    },
    {
      "cell_type": "code",
      "source": [
        "from pyspark.ml.feature import Imputer\n",
        "\n",
        "imputer = Imputer(\n",
        "    inputCols=['age', 'Experience', 'Salary'],\n",
        "    outputCols=[\"{}_imputed\".format(c) for c in ['age', 'Experience', 'Salary']]\n",
        "    ).setStrategy(\"median\")"
      ],
      "metadata": {
        "id": "hx3j1eGbphrT"
      },
      "execution_count": 43,
      "outputs": []
    },
    {
      "cell_type": "code",
      "source": [
        "# Add imputation cols to df\n",
        "imputer.fit(df_pyspark).transform(df_pyspark).show()"
      ],
      "metadata": {
        "colab": {
          "base_uri": "https://localhost:8080/"
        },
        "id": "P9LNzpvLphtb",
        "outputId": "510f2c2f-1c56-4e24-e995-cecfb9616cf9"
      },
      "execution_count": 44,
      "outputs": [
        {
          "output_type": "stream",
          "name": "stdout",
          "text": [
            "+---------+----+----------+------+-----------+------------------+--------------+\n",
            "|     Name| age|Experience|Salary|age_imputed|Experience_imputed|Salary_imputed|\n",
            "+---------+----+----------+------+-----------+------------------+--------------+\n",
            "|    Krish|  31|        10| 30000|         31|                10|         30000|\n",
            "|Sudhanshu|  30|         8| 25000|         30|                 8|         25000|\n",
            "|    Sunny|  29|         4| 20000|         29|                 4|         20000|\n",
            "|     Paul|  24|         3| 20000|         24|                 3|         20000|\n",
            "|   Harsha|  21|         1| 15000|         21|                 1|         15000|\n",
            "|  Shubham|  23|         2| 18000|         23|                 2|         18000|\n",
            "|   Mahesh|null|      null| 40000|         29|                 4|         40000|\n",
            "|     null|  34|        10| 38000|         34|                10|         38000|\n",
            "|     null|  36|      null|  null|         36|                 4|         20000|\n",
            "+---------+----+----------+------+-----------+------------------+--------------+\n",
            "\n"
          ]
        }
      ]
    },
    {
      "cell_type": "markdown",
      "source": [
        "# **Part 3 - Filter Operations**"
      ],
      "metadata": {
        "id": "CKhI05Nc3NNp"
      }
    },
    {
      "cell_type": "code",
      "source": [
        "df_pyspark=spark.read.csv('test1.csv',header=True,inferSchema=True)\n",
        "df_pyspark.show()"
      ],
      "metadata": {
        "colab": {
          "base_uri": "https://localhost:8080/"
        },
        "id": "KRzpVS5HphyW",
        "outputId": "d75b0e3d-c658-44fc-8564-7c768a703ad3"
      },
      "execution_count": 45,
      "outputs": [
        {
          "output_type": "stream",
          "name": "stdout",
          "text": [
            "+---------+---+----------+------+\n",
            "|     Name|age|Experience|Salary|\n",
            "+---------+---+----------+------+\n",
            "|    Krish| 31|        10| 30000|\n",
            "|Sudhanshu| 30|         8| 25000|\n",
            "|    Sunny| 29|         4| 20000|\n",
            "|     Paul| 24|         3| 20000|\n",
            "|   Harsha| 21|         1| 15000|\n",
            "|  Shubham| 23|         2| 18000|\n",
            "+---------+---+----------+------+\n",
            "\n"
          ]
        }
      ]
    },
    {
      "cell_type": "code",
      "source": [
        "### Salary of the people less than or equal to 20000\n",
        "df_pyspark.filter(\"Salary<=20000\").show()"
      ],
      "metadata": {
        "colab": {
          "base_uri": "https://localhost:8080/"
        },
        "id": "Rj7CPN1c3eIf",
        "outputId": "18ae66eb-d67c-4323-c7a9-11286d2c8798"
      },
      "execution_count": 46,
      "outputs": [
        {
          "output_type": "stream",
          "name": "stdout",
          "text": [
            "+-------+---+----------+------+\n",
            "|   Name|age|Experience|Salary|\n",
            "+-------+---+----------+------+\n",
            "|  Sunny| 29|         4| 20000|\n",
            "|   Paul| 24|         3| 20000|\n",
            "| Harsha| 21|         1| 15000|\n",
            "|Shubham| 23|         2| 18000|\n",
            "+-------+---+----------+------+\n",
            "\n"
          ]
        }
      ]
    },
    {
      "cell_type": "code",
      "source": [
        "df_pyspark.filter(\"Salary<=20000\").select(['Name','age']).show() # selecting only two columns"
      ],
      "metadata": {
        "colab": {
          "base_uri": "https://localhost:8080/"
        },
        "id": "K79vGgaE3eLT",
        "outputId": "1eb33d72-f0b2-41d8-9393-00d32998e317"
      },
      "execution_count": 47,
      "outputs": [
        {
          "output_type": "stream",
          "name": "stdout",
          "text": [
            "+-------+---+\n",
            "|   Name|age|\n",
            "+-------+---+\n",
            "|  Sunny| 29|\n",
            "|   Paul| 24|\n",
            "| Harsha| 21|\n",
            "|Shubham| 23|\n",
            "+-------+---+\n",
            "\n"
          ]
        }
      ]
    },
    {
      "cell_type": "code",
      "source": [
        "df_pyspark.filter(df_pyspark['Salary']<=20000).show() # another way of filtering"
      ],
      "metadata": {
        "colab": {
          "base_uri": "https://localhost:8080/"
        },
        "id": "sTYluDOJ3eN6",
        "outputId": "fd38d968-5037-4859-b531-0f6e956a0495"
      },
      "execution_count": 48,
      "outputs": [
        {
          "output_type": "stream",
          "name": "stdout",
          "text": [
            "+-------+---+----------+------+\n",
            "|   Name|age|Experience|Salary|\n",
            "+-------+---+----------+------+\n",
            "|  Sunny| 29|         4| 20000|\n",
            "|   Paul| 24|         3| 20000|\n",
            "| Harsha| 21|         1| 15000|\n",
            "|Shubham| 23|         2| 18000|\n",
            "+-------+---+----------+------+\n",
            "\n"
          ]
        }
      ]
    },
    {
      "cell_type": "code",
      "source": [
        "df_pyspark.filter((df_pyspark['Salary']<=20000) |\n",
        "                  (df_pyspark['Salary']>=15000)).show() # filtering using mutliple conditions"
      ],
      "metadata": {
        "colab": {
          "base_uri": "https://localhost:8080/"
        },
        "id": "CYsBolmH3eQU",
        "outputId": "5f3ae6db-b940-452d-e644-10ef94b1be90"
      },
      "execution_count": 49,
      "outputs": [
        {
          "output_type": "stream",
          "name": "stdout",
          "text": [
            "+---------+---+----------+------+\n",
            "|     Name|age|Experience|Salary|\n",
            "+---------+---+----------+------+\n",
            "|    Krish| 31|        10| 30000|\n",
            "|Sudhanshu| 30|         8| 25000|\n",
            "|    Sunny| 29|         4| 20000|\n",
            "|     Paul| 24|         3| 20000|\n",
            "|   Harsha| 21|         1| 15000|\n",
            "|  Shubham| 23|         2| 18000|\n",
            "+---------+---+----------+------+\n",
            "\n"
          ]
        }
      ]
    },
    {
      "cell_type": "code",
      "source": [
        "df_pyspark.filter(~(df_pyspark['Salary']<=20000)).show() # not operation"
      ],
      "metadata": {
        "colab": {
          "base_uri": "https://localhost:8080/"
        },
        "id": "e3LpTj2Q3eSm",
        "outputId": "bd131db0-f9b2-436a-d708-a502e7498416"
      },
      "execution_count": 50,
      "outputs": [
        {
          "output_type": "stream",
          "name": "stdout",
          "text": [
            "+---------+---+----------+------+\n",
            "|     Name|age|Experience|Salary|\n",
            "+---------+---+----------+------+\n",
            "|    Krish| 31|        10| 30000|\n",
            "|Sudhanshu| 30|         8| 25000|\n",
            "+---------+---+----------+------+\n",
            "\n"
          ]
        }
      ]
    },
    {
      "cell_type": "code",
      "source": [],
      "metadata": {
        "id": "ZMMez8lw3eU0"
      },
      "execution_count": null,
      "outputs": []
    },
    {
      "cell_type": "code",
      "source": [],
      "metadata": {
        "id": "MJbA3A0P3eYs"
      },
      "execution_count": null,
      "outputs": []
    },
    {
      "cell_type": "code",
      "source": [],
      "metadata": {
        "id": "cPwHz9Xx3ebL"
      },
      "execution_count": null,
      "outputs": []
    },
    {
      "cell_type": "code",
      "source": [],
      "metadata": {
        "id": "B2bwXNJp3edS"
      },
      "execution_count": null,
      "outputs": []
    },
    {
      "cell_type": "code",
      "source": [],
      "metadata": {
        "id": "fTsTeicf3efR"
      },
      "execution_count": null,
      "outputs": []
    },
    {
      "cell_type": "code",
      "source": [],
      "metadata": {
        "id": "j3-dmnHb3ehs"
      },
      "execution_count": null,
      "outputs": []
    }
  ]
}